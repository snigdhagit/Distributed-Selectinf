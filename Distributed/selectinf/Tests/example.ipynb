{
 "cells": [
  {
   "cell_type": "code",
   "execution_count": 6,
   "metadata": {},
   "outputs": [],
   "source": [
    "import numpy as np\n",
    "\n",
    "from Distributed.selectinf.distributed_lasso import multisplit_lasso as L\n",
    "from Distributed.selectinf.Tests.instance import gaussian_instance, logistic_instance"
   ]
  },
  {
   "cell_type": "markdown",
   "metadata": {},
   "source": [
    "### Generate data"
   ]
  },
  {
   "cell_type": "code",
   "execution_count": 2,
   "metadata": {},
   "outputs": [],
   "source": [
    "K = 3 # number of local machines\n",
    "n1 = 1000 # number of samples on each of the local machine machine\n",
    "n0 = 1000 # number of samples on the central machine\n",
    "n = n0 + n1 * K # total number of samples\n",
    "p = 100\n",
    "signal = np.sqrt(2 * np.log(p))\n",
    "s = 5 # sparsity\n",
    "rho = 0.3\n",
    "sigma = 1.\n",
    "np.random.seed(42)\n",
    "X, Y, beta = gaussian_instance(n=n, p=p, signal=signal, s=s, equicorrelated=False, rho=rho, sigma=sigma, random_signs=True)[:3]"
   ]
  },
  {
   "cell_type": "markdown",
   "metadata": {},
   "source": [
    "### Lasso "
   ]
  },
  {
   "cell_type": "code",
   "execution_count": 3,
   "metadata": {},
   "outputs": [
    {
     "name": "stdout",
     "output_type": "stream",
     "text": [
      "Selected 8 variables\n"
     ]
    }
   ],
   "source": [
    "proportion = (n1 / n) * np.ones(K) # proportion of data on each of the local machine\n",
    "feature_weights = {i: np.ones(p) * np.sqrt(2 * np.log(p)) * 1.5 for i in range(K)} # feature weights for each of the K machines\n",
    "selector = L.gaussian(X, Y, feature_weights, proportion, estimate_dispersion=True) # create the model\n",
    "selected = selector.fit() # fit the model\n",
    "print(\"Selected\", selected.sum(), \"variables\")"
   ]
  },
  {
   "cell_type": "code",
   "execution_count": 4,
   "metadata": {},
   "outputs": [
    {
     "name": "stdout",
     "output_type": "stream",
     "text": [
      "        MLE        SE    Zvalue    pvalue alternative  lower_confidence  \\\n",
      "0 -3.909735  1.488610 -2.626433  0.008629    twosided         -6.358281   \n",
      "1  1.636432  1.971080  0.830221  0.406414    twosided         -1.605706   \n",
      "2 -1.102830  1.933536 -0.570369  0.568427    twosided         -4.283214   \n",
      "3 -0.382391  1.964922 -0.194609  0.845699    twosided         -3.614400   \n",
      "4 -0.317457  2.043601 -0.155342  0.876552    twosided         -3.678882   \n",
      "5  0.103624  2.048693  0.050580  0.959660    twosided         -3.266176   \n",
      "6 -2.512710  1.986254 -1.265050  0.205853    twosided         -5.779806   \n",
      "7  0.023204  2.040705  0.011370  0.990928    twosided         -3.333457   \n",
      "\n",
      "   upper_confidence  unbiased  \n",
      "0         -1.461189 -5.136766  \n",
      "1          4.878569 -1.697327  \n",
      "2          2.077554 -3.298806  \n",
      "3          2.849617  2.340845  \n",
      "4          3.043967 -3.110683  \n",
      "5          3.473423  3.044991  \n",
      "6          0.754387 -3.510875  \n",
      "7          3.379864 -1.998944  \n"
     ]
    }
   ],
   "source": [
    "selector.setup_inference(dispersion=None) # setup the inference\n",
    "target_spec = selector.selected_targets()\n",
    "result = selector.inference(target_spec, level=0.9)  \n",
    "print(result)"
   ]
  },
  {
   "cell_type": "markdown",
   "metadata": {},
   "source": [
    "### Logistic regression"
   ]
  },
  {
   "cell_type": "code",
   "execution_count": 34,
   "metadata": {},
   "outputs": [],
   "source": [
    "np.random.seed(42)\n",
    "X, Y, beta = logistic_instance(n=n, p=p, signal=signal, s=s, equicorrelated=False, rho=rho, random_signs=True)[:3]"
   ]
  },
  {
   "cell_type": "code",
   "execution_count": 35,
   "metadata": {},
   "outputs": [
    {
     "name": "stdout",
     "output_type": "stream",
     "text": [
      "Selected 4 variables\n",
      "        MLE        SE    Zvalue    pvalue alternative  lower_confidence  \\\n",
      "0 -6.463941  3.971717 -1.627493  0.103632    twosided        -12.996835   \n",
      "1 -2.049404  3.918726 -0.522977  0.600990    twosided         -8.495135   \n",
      "2  5.007527  3.848403  1.301196  0.193191    twosided         -1.322533   \n",
      "3 -0.855014  3.950388 -0.216438  0.828646    twosided         -7.352824   \n",
      "\n",
      "   upper_confidence  unbiased  \n",
      "0          0.068952  1.776052  \n",
      "1          4.396328 -6.191762  \n",
      "2         11.337587  7.751807  \n",
      "3          5.642796  4.781950  \n"
     ]
    }
   ],
   "source": [
    "feature_weights = {i: np.ones(X.shape[1]) * np.sqrt(2 * np.log(p)) * .8 for i in range(K)}\n",
    "selector = L.logistic(X, Y, feature_weights, proportion)\n",
    "selected = selector.fit() # fit the model\n",
    "print(\"Selected\", selected.sum(), \"variables\")\n",
    "\n",
    "selector.setup_inference(dispersion=1.)\n",
    "target_spec = selector.selected_targets()\n",
    "result = selector.inference(target_spec, level=0.9)\n",
    "print(result)"
   ]
  },
  {
   "cell_type": "code",
   "execution_count": null,
   "metadata": {},
   "outputs": [],
   "source": []
  }
 ],
 "metadata": {
  "kernelspec": {
   "display_name": "Python 3",
   "language": "python",
   "name": "python3"
  },
  "language_info": {
   "codemirror_mode": {
    "name": "ipython",
    "version": 3
   },
   "file_extension": ".py",
   "mimetype": "text/x-python",
   "name": "python",
   "nbconvert_exporter": "python",
   "pygments_lexer": "ipython3",
   "version": "3.6.10"
  }
 },
 "nbformat": 4,
 "nbformat_minor": 2
}
